{
  "nbformat": 4,
  "nbformat_minor": 0,
  "metadata": {
    "colab": {
      "name": "K_Means_Clustering.ipynb",
      "provenance": [],
      "include_colab_link": true
    },
    "kernelspec": {
      "display_name": "Python 3",
      "language": "python",
      "name": "python3"
    },
    "language_info": {
      "codemirror_mode": {
        "name": "ipython",
        "version": 3
      },
      "file_extension": ".py",
      "mimetype": "text/x-python",
      "name": "python",
      "nbconvert_exporter": "python",
      "pygments_lexer": "ipython3",
      "version": "3.8.5"
    }
  },
  "cells": [
    {
      "cell_type": "markdown",
      "metadata": {
        "id": "view-in-github",
        "colab_type": "text"
      },
      "source": [
        "<a href=\"https://colab.research.google.com/github/nissasyfsgt/PSDS-KELAS-MAHIR/blob/main/K_Means_Clustering.ipynb\" target=\"_parent\"><img src=\"https://colab.research.google.com/assets/colab-badge.svg\" alt=\"Open In Colab\"/></a>"
      ]
    },
    {
      "cell_type": "markdown",
      "metadata": {
        "id": "p-02RmjtOD12"
      },
      "source": [
        "## Pembuka"
      ]
    },
    {
      "cell_type": "markdown",
      "metadata": {
        "id": "lM_rc2ysOD1-"
      },
      "source": [
        "Assalamu'alaikum warahmatullahi wabarakatuh.\n",
        "Puji syukur kehadirat Allah Subhana Wata'ala atas limpahan Rahmat dan HidayahNya kepada kita semua.\n",
        "Sholawat serta salam senantiasa tercurah limpahkan kepada baginda Muhammad Rasulullah Salallahualaihiwassalam.\n",
        "\n",
        "Halo para **Pejuang Data**. Selamat berjumpa di pertemuan kesembilan Program Training **Algoritma Machine Learning** Kelas Mahir.\n",
        "\n",
        "Pada pertemuan ini kamu akan belajar:\n",
        "* K Means Clustering\n",
        "* Algoritma K Means Clustering\n",
        "* Contoh K Means Clustering\n",
        "* Fungsi K Means Clustering\n",
        "* K Means Clustering dengan Scikit Learn"
      ]
    },
    {
      "cell_type": "markdown",
      "metadata": {
        "id": "n7xc8G9lbeuP"
      },
      "source": [
        "## K Means Clustering"
      ]
    },
    {
      "cell_type": "markdown",
      "metadata": {
        "id": "4lXHlRSjbeuT"
      },
      "source": [
        "K-means (MacQueen, 1967) adalah salah satu algoritma pembelajaran tanpa pengawasan paling sederhana yang memecahkan masalah pengelompokan yang terkenal. Prosedurnya mengikuti cara sederhana dan mudah untuk mengklasifikasikan kumpulan data yang diberikan melalui sejumlah cluster tertentu (asumsikan k cluster) tetap secara apriori. Ide utamanya adalah mendefinisikan k centroid, satu untuk setiap cluster. Centroid ini harus ditempatkan dengan cara yang licik karena lokasi yang berbeda menyebabkan hasil yang berbeda. Jadi, pilihan yang lebih baik adalah menempatkan mereka sejauh mungkin dari satu sama lain. Langkah selanjutnya adalah mengambil setiap titik milik kumpulan data yang diberikan dan mengaitkannya ke centroid terdekat. Ketika tidak ada poin yang tertunda, langkah pertama selesai dan pengelompokan awal dilakukan. Pada titik ini kita perlu menghitung ulang k centroid baru sebagai barycenter dari cluster yang dihasilkan dari langkah sebelumnya. Setelah kita memiliki k centroid baru ini, pengikatan baru harus dilakukan antara titik set data yang sama dan centroid baru terdekat. Sebuah loop telah dibuat. Sebagai hasil dari loop ini kita dapat melihat bahwa k centroid mengubah lokasinya langkah demi langkah sampai tidak ada lagi perubahan yang dilakukan. Dengan kata lain centroid tidak bergerak lagi.\n",
        "Terakhir, algoritma ini bertujuan untuk meminimalkan fungsi tujuan, dalam hal ini fungsi kesalahan kuadrat. Fungsi tujuan\n",
        "\n",
        "$$J=\\sum \\limits_{j=1} ^{k} \\sum \\limits_{i=1} ^{n} \\begin{Vmatrix} x_{i} ^{(j)} - c_{j}\\end{Vmatrix} ^{2} $$\n",
        "\n",
        "di mana $ \\begin{Vmatrix} x_{i} ^{(j)} - c_{j}\\end{Vmatrix} ^{2} $ adalah ukuran jarak yang dipilih antara titik data $ x_{i} ^{(j )} $ dan pusat cluster $c_{j}$, merupakan indikator jarak n titik data dari masing-masing pusat cluster.\n"
      ]
    },
    {
      "cell_type": "markdown",
      "metadata": {
        "id": "JGRSyyk8beuU"
      },
      "source": [
        "## Algoritma K-Means Clustering\n",
        "1. Tentukan parameter k\n",
        "2. Tentukan pusat cluster awal secara acak\n",
        "3. Hitung jarak setiap data ke pusat cluster\n",
        "4. Tetapkan cluster data berdasarkan pusat cluster terdekat\n",
        "5. Memperbarui pusat cluster dengan menghitung nilai rata-rata setiap cluster\n",
        "6. Ulangi langkah 3-5 sampai kriteria berhenti terpenuhi:\n",
        "     1. Jumlah iterasi tertentu tercapai, ATAU\n",
        "     2. Tidak ada (atau minimal) perbedaan anggota cluster pada dua iterasi terakhir, OR\n",
        "     3. Tidak ada (atau minimum) perbedaan pusat cluster, ATAU\n",
        "     4. Selisih SSE (Sum of Squared Error) minimum\n"
      ]
    },
    {
      "cell_type": "markdown",
      "metadata": {
        "id": "zpI65x7PbeuU"
      },
      "source": [
        "## Contoh Implementasi K Means"
      ]
    },
    {
      "cell_type": "markdown",
      "metadata": {
        "id": "4-DeWjIMbeuV"
      },
      "source": [
        "**0. Dataset**"
      ]
    },
    {
      "cell_type": "markdown",
      "metadata": {
        "id": "SdNp_9GkbeuV"
      },
      "source": [
        "| $$x_1$$ | $$x_2$$ |\n",
        "| :---: | :---: |\n",
        "|   1   |   1   |\n",
        "|   2   |   3   |\n",
        "|   7   |   8   |\n",
        "|   8   |   8   |"
      ]
    },
    {
      "cell_type": "code",
      "metadata": {
        "id": "4yMp7AnnbeuW"
      },
      "source": [
        "import pandas as pd\n",
        "import numpy as np\n",
        "import matplotlib.pyplot as plt"
      ],
      "execution_count": 1,
      "outputs": []
    },
    {
      "cell_type": "code",
      "metadata": {
        "colab": {
          "base_uri": "https://localhost:8080/",
          "height": 173
        },
        "id": "556Irq6WbeuX",
        "outputId": "effbb4db-f61a-48f3-c279-30ab2f1782b0"
      },
      "source": [
        "data=pd.DataFrame({\"x1\":[1,2,7,8], \"x2\":[1,3,8,8]})\n",
        "data"
      ],
      "execution_count": 2,
      "outputs": [
        {
          "output_type": "execute_result",
          "data": {
            "text/html": [
              "<div>\n",
              "<style scoped>\n",
              "    .dataframe tbody tr th:only-of-type {\n",
              "        vertical-align: middle;\n",
              "    }\n",
              "\n",
              "    .dataframe tbody tr th {\n",
              "        vertical-align: top;\n",
              "    }\n",
              "\n",
              "    .dataframe thead th {\n",
              "        text-align: right;\n",
              "    }\n",
              "</style>\n",
              "<table border=\"1\" class=\"dataframe\">\n",
              "  <thead>\n",
              "    <tr style=\"text-align: right;\">\n",
              "      <th></th>\n",
              "      <th>x1</th>\n",
              "      <th>x2</th>\n",
              "    </tr>\n",
              "  </thead>\n",
              "  <tbody>\n",
              "    <tr>\n",
              "      <th>0</th>\n",
              "      <td>1</td>\n",
              "      <td>1</td>\n",
              "    </tr>\n",
              "    <tr>\n",
              "      <th>1</th>\n",
              "      <td>2</td>\n",
              "      <td>3</td>\n",
              "    </tr>\n",
              "    <tr>\n",
              "      <th>2</th>\n",
              "      <td>7</td>\n",
              "      <td>8</td>\n",
              "    </tr>\n",
              "    <tr>\n",
              "      <th>3</th>\n",
              "      <td>8</td>\n",
              "      <td>8</td>\n",
              "    </tr>\n",
              "  </tbody>\n",
              "</table>\n",
              "</div>"
            ],
            "text/plain": [
              "   x1  x2\n",
              "0   1   1\n",
              "1   2   3\n",
              "2   7   8\n",
              "3   8   8"
            ]
          },
          "metadata": {},
          "execution_count": 2
        }
      ]
    },
    {
      "cell_type": "code",
      "metadata": {
        "colab": {
          "base_uri": "https://localhost:8080/",
          "height": 282
        },
        "id": "4Vj5eAJobeuZ",
        "outputId": "092bc703-d84f-4b96-c9cd-a96bb3554c1e"
      },
      "source": [
        "plt.scatter(data.x1, data.x2)"
      ],
      "execution_count": 3,
      "outputs": [
        {
          "output_type": "execute_result",
          "data": {
            "text/plain": [
              "<matplotlib.collections.PathCollection at 0x7f4fee105110>"
            ]
          },
          "metadata": {},
          "execution_count": 3
        },
        {
          "output_type": "display_data",
          "data": {
            "image/png": "[encoded data removed]",
            "text/plain": [
              "<Figure size 432x288 with 1 Axes>"
            ]
          },
          "metadata": {
            "needs_background": "light"
          }
        }
      ]
    },
    {
      "cell_type": "markdown",
      "metadata": {
        "id": "R1aaLgNEbeua"
      },
      "source": [
        "**1. Tentukan parameternya $k$**\n",
        "\n",
        "$$k=2$$"
      ]
    },
    {
      "cell_type": "code",
      "metadata": {
        "id": "Q9grO0pybeua"
      },
      "source": [
        "k=2"
      ],
      "execution_count": 4,
      "outputs": []
    },
    {
      "cell_type": "markdown",
      "metadata": {
        "id": "p--DUFysbeub"
      },
      "source": [
        "**2. Tentukan pusat cluster awal secara acak**"
      ]
    },
    {
      "cell_type": "markdown",
      "metadata": {
        "id": "hyXYU1BSbeuc"
      },
      "source": [
        "|Centroid | $$x_1$$ | $$x_2$$ |\n",
        "| :---:   | :---: | :---: |\n",
        "| $$c_1$$ |   1   |   1   |\n",
        "| $$c_2$$ |   2   |   3   |"
      ]
    },
    {
      "cell_type": "code",
      "metadata": {
        "colab": {
          "base_uri": "https://localhost:8080/"
        },
        "id": "MRnKiEc8beuc",
        "outputId": "2ebd0157-5e9e-45a7-937a-573fb89ff3d0"
      },
      "source": [
        "pusat_klaster = np.array([[1,1],[2,3]])\n",
        "pusat_klaster"
      ],
      "execution_count": 5,
      "outputs": [
        {
          "output_type": "execute_result",
          "data": {
            "text/plain": [
              "array([[1, 1],\n",
              "       [2, 3]])"
            ]
          },
          "metadata": {},
          "execution_count": 5
        }
      ]
    },
    {
      "cell_type": "code",
      "metadata": {
        "id": "xr7BkhPabeud"
      },
      "source": [
        "# Determine the initial cluster center randomly\n",
        "import random\n",
        "def pusat_klaster_awal(k, data):\n",
        "    X=np.array(data)\n",
        "    n=len(X)\n",
        "    list_1=np.arange(0,n)\n",
        "    pusat_klaster_index = random.choices(list_1, k=k)\n",
        "    pusat_klaster=X[pusat_klaster_index]\n",
        "    return pusat_klaster"
      ],
      "execution_count": 6,
      "outputs": []
    },
    {
      "cell_type": "markdown",
      "metadata": {
        "id": "ZkHM-AQobeue"
      },
      "source": [
        "**3. Hitung jarak setiap data ke pusat cluster**"
      ]
    },
    {
      "cell_type": "code",
      "metadata": {
        "id": "plWS5SDbbeue"
      },
      "source": [
        "# Define the euclidean distance function\n",
        "def jarak_euclidean(x,y):\n",
        "    return np.sqrt(sum(pow(a-b, 2) for a, b in zip(x,y)))"
      ],
      "execution_count": 7,
      "outputs": []
    },
    {
      "cell_type": "code",
      "metadata": {
        "id": "5cOqo1P3beue"
      },
      "source": [
        "def jarak_centroid_euclidean(data,pusat_klaster):\n",
        "    n=len(data)\n",
        "    k=np.array(pusat_klaster).shape[0]\n",
        "    jarak=[]\n",
        "    for i in range(n):\n",
        "        x = list(data.iloc[i,::])\n",
        "        jrk = [jarak_euclidean(x, pusat_klaster[j]) for j in range(k)]\n",
        "        jarak.append(jrk)\n",
        "    return jarak"
      ],
      "execution_count": 8,
      "outputs": []
    },
    {
      "cell_type": "code",
      "metadata": {
        "colab": {
          "base_uri": "https://localhost:8080/"
        },
        "id": "leMz5fGQbeue",
        "outputId": "f2dd6651-2ce8-4123-9354-76d5f7677af9"
      },
      "source": [
        "jarak_centroid=jarak_centroid_euclidean(data,pusat_klaster)\n",
        "jarak_centroid"
      ],
      "execution_count": 9,
      "outputs": [
        {
          "output_type": "execute_result",
          "data": {
            "text/plain": [
              "[[0.0, 2.23606797749979],\n",
              " [2.23606797749979, 0.0],\n",
              " [9.219544457292887, 7.0710678118654755],\n",
              " [9.899494936611665, 7.810249675906654]]"
            ]
          },
          "metadata": {},
          "execution_count": 9
        }
      ]
    },
    {
      "cell_type": "markdown",
      "metadata": {
        "id": "qEBmzXtEbeuf"
      },
      "source": [
        "**4. Tetapkan klaster data berdasarkan pusat klaster terdekat**"
      ]
    },
    {
      "cell_type": "code",
      "metadata": {
        "id": "F0T53TIwbeuf"
      },
      "source": [
        "def menentukan_klaster(jarak_centroid):\n",
        "    n=len(jarak_centroid)\n",
        "    label_klaster=list()\n",
        "    for i in range(n):\n",
        "        max_val, idx = min((val, idx) for (idx, val) in enumerate(jarak_centroid[i]))\n",
        "        label_klaster.append(idx)\n",
        "    return label_klaster"
      ],
      "execution_count": 10,
      "outputs": []
    },
    {
      "cell_type": "code",
      "metadata": {
        "colab": {
          "base_uri": "https://localhost:8080/"
        },
        "id": "CtPR161lbeuf",
        "outputId": "ed7cdd9d-4c47-4f37-f628-6819aa57a742"
      },
      "source": [
        "klaster=menentukan_klaster(jarak_centroid)\n",
        "klaster"
      ],
      "execution_count": 11,
      "outputs": [
        {
          "output_type": "execute_result",
          "data": {
            "text/plain": [
              "[0, 1, 1, 1]"
            ]
          },
          "metadata": {},
          "execution_count": 11
        }
      ]
    },
    {
      "cell_type": "markdown",
      "metadata": {
        "id": "Rvtp3Sj4beuf"
      },
      "source": [
        "**5. Memperbarui pusat cluster dengan menghitung nilai rata-rata setiap cluster**"
      ]
    },
    {
      "cell_type": "code",
      "metadata": {
        "id": "BcI2EwvVbeug"
      },
      "source": [
        "def menghitung_pusat_klaster(data, klaster):\n",
        "    data['label']=klaster\n",
        "    pusat_barudf=data.groupby('label', as_index=False).mean()\n",
        "    pusat_barudf=pusat_barudf.iloc[::,1:]\n",
        "    pusat_klaster_baru=np.array(pusat_barudf)\n",
        "    return pusat_klaster_baru"
      ],
      "execution_count": 12,
      "outputs": []
    },
    {
      "cell_type": "code",
      "metadata": {
        "colab": {
          "base_uri": "https://localhost:8080/"
        },
        "id": "JIADFiFGbeug",
        "outputId": "50324346-840a-487a-ed57-f75a74b75a9a"
      },
      "source": [
        "pusat_klaster_baru=menghitung_pusat_klaster(data, klaster)\n",
        "pusat_klaster_baru"
      ],
      "execution_count": 13,
      "outputs": [
        {
          "output_type": "execute_result",
          "data": {
            "text/plain": [
              "array([[1.        , 1.        ],\n",
              "       [5.66666667, 6.33333333]])"
            ]
          },
          "metadata": {},
          "execution_count": 13
        }
      ]
    },
    {
      "cell_type": "markdown",
      "metadata": {
        "id": "G3wT1ueybeug"
      },
      "source": [
        "**6. Ulangi langkah 2 - 5 hingga kriteria henti dipenuhi:**"
      ]
    },
    {
      "cell_type": "code",
      "metadata": {
        "id": "ZZBkr_5Sbeug"
      },
      "source": [
        "def perubahan_pusat_klaster_euclidean(pusat_klaster_lama, pusat_klaster_baru):\n",
        "    perubahan = 0\n",
        "    for a,b in zip(pusat_klaster_lama, pusat_klaster_baru):\n",
        "        perubahan+=jarak_euclidean(a,b)\n",
        "    return perubahan"
      ],
      "execution_count": 14,
      "outputs": []
    },
    {
      "cell_type": "code",
      "metadata": {
        "colab": {
          "base_uri": "https://localhost:8080/"
        },
        "id": "dlQjlz_sbeug",
        "outputId": "ea3384da-84aa-486e-8fc0-84573c609951"
      },
      "source": [
        "perubahan_pusat_klaster_euclidean(pusat_klaster, pusat_klaster_baru)"
      ],
      "execution_count": 15,
      "outputs": [
        {
          "output_type": "execute_result",
          "data": {
            "text/plain": [
              "4.955356249106169"
            ]
          },
          "metadata": {},
          "execution_count": 15
        }
      ]
    },
    {
      "cell_type": "markdown",
      "metadata": {
        "id": "YJDoJtt9beug"
      },
      "source": [
        "## Fungsi K Means Clustering"
      ]
    },
    {
      "cell_type": "code",
      "metadata": {
        "id": "4O0O6cgPbeuh"
      },
      "source": [
        "def plot_klaster(X, klaster, pusat_klaster):\n",
        "    df = pd.DataFrame(dict(x=X[:,0], y=X[:,1], label=klaster))\n",
        "    colors = {0:'blue', 1:'orange', 2:'green'}\n",
        "    fig, ax = plt.subplots(figsize=(8, 8))\n",
        "    grouped = df.groupby('label')\n",
        "    for key, group in grouped:\n",
        "        group.plot(ax=ax, kind='scatter', x='x', y='y', label=key, color=colors[key])\n",
        "    ax.scatter(pusat_klaster[:, 0], pusat_klaster[:, 1], marker='*', s=150, c='#ff2222')\n",
        "    plt.xlabel('X_1')\n",
        "    plt.ylabel('X_2')\n",
        "    plt.show()"
      ],
      "execution_count": 16,
      "outputs": []
    },
    {
      "cell_type": "code",
      "metadata": {
        "id": "8UpkJMXQbeuh"
      },
      "source": [
        "def k_means(k, df):\n",
        "    X=np.array(df)\n",
        "    pusat_klaster_lama = pusat_klaster_awal(k, X)\n",
        "    klaster = [0]*len(X)\n",
        "    epsilon = 100\n",
        "    iterasi = -1\n",
        "    while epsilon>.001:\n",
        "        jarak_ke_pusat_klaster=jarak_centroid_euclidean(df,pusat_klaster_lama)\n",
        "        klaster = menentukan_klaster(jarak_ke_pusat_klaster)\n",
        "        plot_klaster(X, klaster, pusat_klaster_lama)\n",
        "        pusat_klaster_baru = menghitung_pusat_klaster(df, klaster)\n",
        "        epsilon = perubahan_pusat_klaster_euclidean(pusat_klaster_lama, pusat_klaster_baru)\n",
        "        pusat_klaster_lama = pusat_klaster_baru\n",
        "        iterasi += 1\n",
        "    return iterasi, klaster, pusat_klaster_baru"
      ],
      "execution_count": 17,
      "outputs": []
    },
    {
      "cell_type": "code",
      "metadata": {
        "colab": {
          "base_uri": "https://localhost:8080/",
          "height": 1000
        },
        "id": "fk8Hfqx7beuh",
        "scrolled": true,
        "outputId": "0e2a2706-e871-4a60-9d60-a8320033f4bc"
      },
      "source": [
        "iterasi, klaster, pusat_klaster= k_means(2, data)"
      ],
      "execution_count": 18,
      "outputs": [
        {
          "output_type": "display_data",
          "data": {
            "image/png": "[encoded data removed]",
            "text/plain": [
              "<Figure size 576x576 with 1 Axes>"
            ]
          },
          "metadata": {
            "needs_background": "light"
          }
        },
        {
          "output_type": "display_data",
          "data": {
            "image/png": "[encoded data removed]",
            "text/plain": [
              "<Figure size 576x576 with 1 Axes>"
            ]
          },
          "metadata": {
            "needs_background": "light"
          }
        },
        {
          "output_type": "display_data",
          "data": {
            "image/png": "[encoded data removed]",
            "text/plain": [
              "<Figure size 576x576 with 1 Axes>"
            ]
          },
          "metadata": {
            "needs_background": "light"
          }
        }
      ]
    },
    {
      "cell_type": "code",
      "metadata": {
        "colab": {
          "base_uri": "https://localhost:8080/"
        },
        "id": "v05pk7LV7lhf",
        "outputId": "aef6386e-c781-482e-c961-7270f9d40569"
      },
      "source": [
        "pusat_klaster"
      ],
      "execution_count": 19,
      "outputs": [
        {
          "output_type": "execute_result",
          "data": {
            "text/plain": [
              "array([[1.5, 2. ],\n",
              "       [7.5, 8. ]])"
            ]
          },
          "metadata": {},
          "execution_count": 19
        }
      ]
    },
    {
      "cell_type": "markdown",
      "metadata": {
        "id": "EarGuG9gVIn4"
      },
      "source": [
        "## K-Means Clustering menggunakan Python Scikit Learn"
      ]
    },
    {
      "cell_type": "code",
      "metadata": {
        "colab": {
          "base_uri": "https://localhost:8080/"
        },
        "id": "0pu6xfe_YSOM",
        "outputId": "fbf7d9ee-c34d-4c5d-b6a2-34fe06c6c634"
      },
      "source": [
        "from sklearn.cluster import KMeans\n",
        "import numpy as np\n",
        "\n",
        "data=pd.DataFrame({\"x1\":[1,2,7,8], \"x2\":[1,3,8,8]})\n",
        "\n",
        "X=np.array(data)\n",
        "X"
      ],
      "execution_count": 20,
      "outputs": [
        {
          "output_type": "execute_result",
          "data": {
            "text/plain": [
              "array([[1, 1],\n",
              "       [2, 3],\n",
              "       [7, 8],\n",
              "       [8, 8]])"
            ]
          },
          "metadata": {},
          "execution_count": 20
        }
      ]
    },
    {
      "cell_type": "code",
      "metadata": {
        "id": "pqSXAT85Yl7l"
      },
      "source": [
        "kmeans = KMeans(n_clusters=2, random_state=0).fit(X)"
      ],
      "execution_count": 21,
      "outputs": []
    },
    {
      "cell_type": "code",
      "metadata": {
        "colab": {
          "base_uri": "https://localhost:8080/"
        },
        "id": "F_5bV3LUYSRK",
        "outputId": "558e002d-6582-445f-a89a-81a2731ab661"
      },
      "source": [
        "kmeans.labels_"
      ],
      "execution_count": 22,
      "outputs": [
        {
          "output_type": "execute_result",
          "data": {
            "text/plain": [
              "array([0, 0, 1, 1], dtype=int32)"
            ]
          },
          "metadata": {},
          "execution_count": 22
        }
      ]
    },
    {
      "cell_type": "code",
      "metadata": {
        "colab": {
          "base_uri": "https://localhost:8080/"
        },
        "id": "QNLRc2wvYSUG",
        "outputId": "d599f330-80d6-4275-cb7b-e9e7222c16aa"
      },
      "source": [
        "kmeans.predict([[0, 0], [12, 3]])"
      ],
      "execution_count": 23,
      "outputs": [
        {
          "output_type": "execute_result",
          "data": {
            "text/plain": [
              "array([0, 1], dtype=int32)"
            ]
          },
          "metadata": {},
          "execution_count": 23
        }
      ]
    },
    {
      "cell_type": "code",
      "metadata": {
        "colab": {
          "base_uri": "https://localhost:8080/"
        },
        "id": "piErV9FAYSXC",
        "outputId": "b48ef7db-43ee-44fa-8e45-04581ccac90f"
      },
      "source": [
        "kmeans.cluster_centers_"
      ],
      "execution_count": 24,
      "outputs": [
        {
          "output_type": "execute_result",
          "data": {
            "text/plain": [
              "array([[1.5, 2. ],\n",
              "       [7.5, 8. ]])"
            ]
          },
          "metadata": {},
          "execution_count": 24
        }
      ]
    },
    {
      "cell_type": "markdown",
      "metadata": {
        "id": "BDfe8Pmo0M8v"
      },
      "source": [
        "## Latihan"
      ]
    },
    {
      "cell_type": "markdown",
      "metadata": {
        "id": "BkCKbf2z0bvE"
      },
      "source": [
        "Diberikan Dataset"
      ]
    },
    {
      "cell_type": "code",
      "metadata": {
        "id": "IoEg0xX-QYBa"
      },
      "source": [
        "#Import Modul yang Digunakan\n",
        "import pandas as pd\n",
        "import numpy as np\n",
        "import matplotlib.pyplot as plt\n",
        "from sklearn.cluster import KMeans"
      ],
      "execution_count": 74,
      "outputs": []
    },
    {
      "cell_type": "code",
      "metadata": {
        "colab": {
          "base_uri": "https://localhost:8080/",
          "height": 589
        },
        "id": "ghFCtiN5RY43",
        "outputId": "7a6cd71e-44a7-4264-bb8a-3ee2d50aeaa6"
      },
      "source": [
        "#Mengakses Data\n",
        "dataset =pd.read_excel('/content/Super-Store-Dataset.csv.xlsx')\n",
        "dataset"
      ],
      "execution_count": 75,
      "outputs": [
        {
          "output_type": "execute_result",
          "data": {
            "text/html": [
              "<div>\n",
              "<style scoped>\n",
              "    .dataframe tbody tr th:only-of-type {\n",
              "        vertical-align: middle;\n",
              "    }\n",
              "\n",
              "    .dataframe tbody tr th {\n",
              "        vertical-align: top;\n",
              "    }\n",
              "\n",
              "    .dataframe thead th {\n",
              "        text-align: right;\n",
              "    }\n",
              "</style>\n",
              "<table border=\"1\" class=\"dataframe\">\n",
              "  <thead>\n",
              "    <tr style=\"text-align: right;\">\n",
              "      <th></th>\n",
              "      <th>order_id</th>\n",
              "      <th>order_date</th>\n",
              "      <th>customer_id</th>\n",
              "      <th>segment</th>\n",
              "      <th>category</th>\n",
              "      <th>sub_category</th>\n",
              "      <th>sales</th>\n",
              "      <th>quantity</th>\n",
              "      <th>profit</th>\n",
              "    </tr>\n",
              "  </thead>\n",
              "  <tbody>\n",
              "    <tr>\n",
              "      <th>0</th>\n",
              "      <td>CA-2016-152156</td>\n",
              "      <td>2016-08-11 00:00:00</td>\n",
              "      <td>CG-12520</td>\n",
              "      <td>Consumer</td>\n",
              "      <td>Furniture</td>\n",
              "      <td>Bookcases</td>\n",
              "      <td>261.96</td>\n",
              "      <td>2</td>\n",
              "      <td>419136.00</td>\n",
              "    </tr>\n",
              "    <tr>\n",
              "      <th>1</th>\n",
              "      <td>CA-2016-152156</td>\n",
              "      <td>2016-08-11 00:00:00</td>\n",
              "      <td>CG-12520</td>\n",
              "      <td>Consumer</td>\n",
              "      <td>Furniture</td>\n",
              "      <td>Chairs</td>\n",
              "      <td>731.94</td>\n",
              "      <td>3</td>\n",
              "      <td>219582.00</td>\n",
              "    </tr>\n",
              "    <tr>\n",
              "      <th>2</th>\n",
              "      <td>CA-2016-138688</td>\n",
              "      <td>2016-12-06 00:00:00</td>\n",
              "      <td>DV-13045</td>\n",
              "      <td>Corporate</td>\n",
              "      <td>Office Supplies</td>\n",
              "      <td>Labels</td>\n",
              "      <td>14.62</td>\n",
              "      <td>2</td>\n",
              "      <td>2488915.00</td>\n",
              "    </tr>\n",
              "    <tr>\n",
              "      <th>3</th>\n",
              "      <td>US-2015-108966</td>\n",
              "      <td>2015-11-10 00:00:00</td>\n",
              "      <td>SO-20335</td>\n",
              "      <td>Consumer</td>\n",
              "      <td>Furniture</td>\n",
              "      <td>Tables</td>\n",
              "      <td>9575775.00</td>\n",
              "      <td>5</td>\n",
              "      <td>-383031.00</td>\n",
              "    </tr>\n",
              "    <tr>\n",
              "      <th>4</th>\n",
              "      <td>US-2015-108966</td>\n",
              "      <td>2015-11-10 00:00:00</td>\n",
              "      <td>SO-20335</td>\n",
              "      <td>Consumer</td>\n",
              "      <td>Office Supplies</td>\n",
              "      <td>Storage</td>\n",
              "      <td>22368.00</td>\n",
              "      <td>2</td>\n",
              "      <td>1192184.00</td>\n",
              "    </tr>\n",
              "    <tr>\n",
              "      <th>...</th>\n",
              "      <td>...</td>\n",
              "      <td>...</td>\n",
              "      <td>...</td>\n",
              "      <td>...</td>\n",
              "      <td>...</td>\n",
              "      <td>...</td>\n",
              "      <td>...</td>\n",
              "      <td>...</td>\n",
              "      <td>...</td>\n",
              "    </tr>\n",
              "    <tr>\n",
              "      <th>9983</th>\n",
              "      <td>CA-2014-110422</td>\n",
              "      <td>1/21/2014</td>\n",
              "      <td>TB-21400</td>\n",
              "      <td>Consumer</td>\n",
              "      <td>Furniture</td>\n",
              "      <td>Furnishings</td>\n",
              "      <td>25248.00</td>\n",
              "      <td>3</td>\n",
              "      <td>-318399.00</td>\n",
              "    </tr>\n",
              "    <tr>\n",
              "      <th>9984</th>\n",
              "      <td>CA-2017-121258</td>\n",
              "      <td>2/26/2017</td>\n",
              "      <td>DB-13060</td>\n",
              "      <td>Consumer</td>\n",
              "      <td>Furniture</td>\n",
              "      <td>Furnishings</td>\n",
              "      <td>91.96</td>\n",
              "      <td>2</td>\n",
              "      <td>156332.00</td>\n",
              "    </tr>\n",
              "    <tr>\n",
              "      <th>9985</th>\n",
              "      <td>CA-2017-121258</td>\n",
              "      <td>2/26/2017</td>\n",
              "      <td>DB-13060</td>\n",
              "      <td>Consumer</td>\n",
              "      <td>Technology</td>\n",
              "      <td>Phones</td>\n",
              "      <td>258576.00</td>\n",
              "      <td>2</td>\n",
              "      <td>193932.00</td>\n",
              "    </tr>\n",
              "    <tr>\n",
              "      <th>9986</th>\n",
              "      <td>CA-2017-121258</td>\n",
              "      <td>2/26/2017</td>\n",
              "      <td>DB-13060</td>\n",
              "      <td>Consumer</td>\n",
              "      <td>Office Supplies</td>\n",
              "      <td>Paper</td>\n",
              "      <td>44376.00</td>\n",
              "      <td>4</td>\n",
              "      <td>13.32</td>\n",
              "    </tr>\n",
              "    <tr>\n",
              "      <th>9987</th>\n",
              "      <td>CA-2017-119914</td>\n",
              "      <td>2017-04-05 00:00:00</td>\n",
              "      <td>CC-12220</td>\n",
              "      <td>Consumer</td>\n",
              "      <td>Office Supplies</td>\n",
              "      <td>Appliances</td>\n",
              "      <td>243.16</td>\n",
              "      <td>2</td>\n",
              "      <td>72948.00</td>\n",
              "    </tr>\n",
              "  </tbody>\n",
              "</table>\n",
              "<p>9988 rows × 9 columns</p>\n",
              "</div>"
            ],
            "text/plain": [
              "            order_id           order_date  ... quantity      profit\n",
              "0     CA-2016-152156  2016-08-11 00:00:00  ...        2   419136.00\n",
              "1     CA-2016-152156  2016-08-11 00:00:00  ...        3   219582.00\n",
              "2     CA-2016-138688  2016-12-06 00:00:00  ...        2  2488915.00\n",
              "3     US-2015-108966  2015-11-10 00:00:00  ...        5  -383031.00\n",
              "4     US-2015-108966  2015-11-10 00:00:00  ...        2  1192184.00\n",
              "...              ...                  ...  ...      ...         ...\n",
              "9983  CA-2014-110422            1/21/2014  ...        3  -318399.00\n",
              "9984  CA-2017-121258            2/26/2017  ...        2   156332.00\n",
              "9985  CA-2017-121258            2/26/2017  ...        2   193932.00\n",
              "9986  CA-2017-121258            2/26/2017  ...        4       13.32\n",
              "9987  CA-2017-119914  2017-04-05 00:00:00  ...        2    72948.00\n",
              "\n",
              "[9988 rows x 9 columns]"
            ]
          },
          "metadata": {},
          "execution_count": 75
        }
      ]
    },
    {
      "cell_type": "code",
      "metadata": {
        "colab": {
          "base_uri": "https://localhost:8080/",
          "height": 419
        },
        "id": "f3667uaKTUJ-",
        "outputId": "8f62a7a1-f119-415d-e665-b348f0bada0e"
      },
      "source": [
        "#Mengambil Kolom Yang Ingin Digunakan\n",
        "dataset2=dataset[[\"sales\", \"quantity\", \"profit\"]] \n",
        "dataset2"
      ],
      "execution_count": 76,
      "outputs": [
        {
          "output_type": "execute_result",
          "data": {
            "text/html": [
              "<div>\n",
              "<style scoped>\n",
              "    .dataframe tbody tr th:only-of-type {\n",
              "        vertical-align: middle;\n",
              "    }\n",
              "\n",
              "    .dataframe tbody tr th {\n",
              "        vertical-align: top;\n",
              "    }\n",
              "\n",
              "    .dataframe thead th {\n",
              "        text-align: right;\n",
              "    }\n",
              "</style>\n",
              "<table border=\"1\" class=\"dataframe\">\n",
              "  <thead>\n",
              "    <tr style=\"text-align: right;\">\n",
              "      <th></th>\n",
              "      <th>sales</th>\n",
              "      <th>quantity</th>\n",
              "      <th>profit</th>\n",
              "    </tr>\n",
              "  </thead>\n",
              "  <tbody>\n",
              "    <tr>\n",
              "      <th>0</th>\n",
              "      <td>261.96</td>\n",
              "      <td>2</td>\n",
              "      <td>419136.00</td>\n",
              "    </tr>\n",
              "    <tr>\n",
              "      <th>1</th>\n",
              "      <td>731.94</td>\n",
              "      <td>3</td>\n",
              "      <td>219582.00</td>\n",
              "    </tr>\n",
              "    <tr>\n",
              "      <th>2</th>\n",
              "      <td>14.62</td>\n",
              "      <td>2</td>\n",
              "      <td>2488915.00</td>\n",
              "    </tr>\n",
              "    <tr>\n",
              "      <th>3</th>\n",
              "      <td>9575775.00</td>\n",
              "      <td>5</td>\n",
              "      <td>-383031.00</td>\n",
              "    </tr>\n",
              "    <tr>\n",
              "      <th>4</th>\n",
              "      <td>22368.00</td>\n",
              "      <td>2</td>\n",
              "      <td>1192184.00</td>\n",
              "    </tr>\n",
              "    <tr>\n",
              "      <th>...</th>\n",
              "      <td>...</td>\n",
              "      <td>...</td>\n",
              "      <td>...</td>\n",
              "    </tr>\n",
              "    <tr>\n",
              "      <th>9983</th>\n",
              "      <td>25248.00</td>\n",
              "      <td>3</td>\n",
              "      <td>-318399.00</td>\n",
              "    </tr>\n",
              "    <tr>\n",
              "      <th>9984</th>\n",
              "      <td>91.96</td>\n",
              "      <td>2</td>\n",
              "      <td>156332.00</td>\n",
              "    </tr>\n",
              "    <tr>\n",
              "      <th>9985</th>\n",
              "      <td>258576.00</td>\n",
              "      <td>2</td>\n",
              "      <td>193932.00</td>\n",
              "    </tr>\n",
              "    <tr>\n",
              "      <th>9986</th>\n",
              "      <td>44376.00</td>\n",
              "      <td>4</td>\n",
              "      <td>13.32</td>\n",
              "    </tr>\n",
              "    <tr>\n",
              "      <th>9987</th>\n",
              "      <td>243.16</td>\n",
              "      <td>2</td>\n",
              "      <td>72948.00</td>\n",
              "    </tr>\n",
              "  </tbody>\n",
              "</table>\n",
              "<p>9988 rows × 3 columns</p>\n",
              "</div>"
            ],
            "text/plain": [
              "           sales  quantity      profit\n",
              "0         261.96         2   419136.00\n",
              "1         731.94         3   219582.00\n",
              "2          14.62         2  2488915.00\n",
              "3     9575775.00         5  -383031.00\n",
              "4       22368.00         2  1192184.00\n",
              "...          ...       ...         ...\n",
              "9983    25248.00         3  -318399.00\n",
              "9984       91.96         2   156332.00\n",
              "9985   258576.00         2   193932.00\n",
              "9986    44376.00         4       13.32\n",
              "9987      243.16         2    72948.00\n",
              "\n",
              "[9988 rows x 3 columns]"
            ]
          },
          "metadata": {},
          "execution_count": 76
        }
      ]
    },
    {
      "cell_type": "markdown",
      "metadata": {
        "id": "qFGl2hDPmYyK"
      },
      "source": [
        "###**OPTIMASI JUMLAH CLUSTER K-MEANS DENGAN METODE ELBOW**"
      ]
    },
    {
      "cell_type": "markdown",
      "metadata": {
        "id": "1Yfxq0PSmxD-"
      },
      "source": [
        "Metode Elbow merupakan suatu metode yang digunakan untuk menghasilkan\n",
        "informasi dalam menentukan jumlah cluster terbaik dengan cara melihat persentase\n",
        "hasil perbandingan antara jumlah cluster yang akan membentuk siku pada suatu titik. Metode ini memberikan ide/gagasan dengan cara memilih nilai cluster dan kemudian menambah nilai cluster tersebut untuk dijadikan model data dalam penentuan cluster terbaik. Dan selain itu persentase perhitungan yang dihasilkan menjadi pembanding antara jumlah cluster yang ditambah. Hasil persentase yang berbeda dari setiap nilai cluster dapat ditunjukan dengan menggunakan grafik sebagai sumber informasinya. Jika nilai cluster pertama dengan nilai cluster kedua memberikan sudut dalam grafik atau nilainya mengalami penurunan paling besar maka nilai cluster tersebut yang terbaik. \n",
        "\n",
        "Untuk mendapatkan perbandingannya adalah dengan menghitung SSE (Sum of Square Error) dari masing-masing nilai cluster. Karena semakin besar jumlah cluster 𝐾 maka nilai SSE akan semakin kecil. Rumus SSE pada K-Means \n",
        "\n",
        "![Screenshot (18).png](data:image/png;base64,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)"
      ]
    },
    {
      "cell_type": "markdown",
      "metadata": {
        "id": "cBgrbrDBnPH_"
      },
      "source": [
        "Import Library"
      ]
    },
    {
      "cell_type": "code",
      "metadata": {
        "id": "yZ3XOL8bfOBQ"
      },
      "source": [
        "#Mengimport modul yang diperlukan\n",
        "from sklearn.cluster import KMeans\n",
        "from sklearn import metrics\n",
        "from scipy.spatial.distance import cdist\n",
        "import numpy as np\n",
        "import matplotlib.pyplot as plt"
      ],
      "execution_count": 60,
      "outputs": []
    },
    {
      "cell_type": "code",
      "metadata": {
        "colab": {
          "base_uri": "https://localhost:8080/"
        },
        "id": "1GOlzWUKfShl",
        "outputId": "112e856a-861b-4260-9ca4-2f6f96fd428d"
      },
      "source": [
        "inertias = []\n",
        "mapping = {}\n",
        "K = range(1, 10)\n",
        " \n",
        "for k in K:\n",
        "    kmeans = KMeans(n_clusters=k).fit(dataset2)\n",
        "    kmeans.fit(dataset2)\n",
        "    inertias.append(kmeans.inertia_)\n",
        "\n",
        "inertias"
      ],
      "execution_count": 89,
      "outputs": [
        {
          "output_type": "execute_result",
          "data": {
            "text/plain": [
              "[2.755517599539061e+16,\n",
              " 1.9648645661135932e+16,\n",
              " 1.4402159419009054e+16,\n",
              " 9514610391354160.0,\n",
              " 7768308866457372.0,\n",
              " 6096705291149910.0,\n",
              " 5141692523032579.0,\n",
              " 4304019150677652.0,\n",
              " 3555233569641958.0]"
            ]
          },
          "metadata": {},
          "execution_count": 89
        }
      ]
    },
    {
      "cell_type": "markdown",
      "metadata": {
        "id": "ExBxjip_pi7F"
      },
      "source": [
        "Semakin rendah nilai inertia menunjukkan bahwa jarak tiap titik data terhadap titik pusat klaster semakin rendah. Dalam pendekatan metode elbow, pemilihan nilai k optimal diketahui dari penurunan inertia yang curam sehingga membentuk sebuah siku (Yuan & Yang, 2019)."
      ]
    },
    {
      "cell_type": "code",
      "metadata": {
        "colab": {
          "base_uri": "https://localhost:8080/",
          "height": 295
        },
        "id": "h7_FzKzrfeFa",
        "outputId": "0153ae51-7bce-47c2-89fd-49ba6f945ca6"
      },
      "source": [
        "plt.plot(K, inertias, 'b*-')\n",
        "plt.xlabel('Nilai dari K')\n",
        "plt.ylabel('INERTIA')\n",
        "plt.title('Metode Elbow untuk menunjukkan nilai k optimal')\n",
        "plt.show()"
      ],
      "execution_count": 95,
      "outputs": [
        {
          "output_type": "display_data",
          "data": {
            "image/png": "[encoded data removed]",
            "text/plain": [
              "<Figure size 432x288 with 1 Axes>"
            ]
          },
          "metadata": {
            "needs_background": "light"
          }
        }
      ]
    },
    {
      "cell_type": "code",
      "metadata": {
        "id": "m129S-gekX5D"
      },
      "source": [
        "#Membentuk fungsi k_means\n",
        "def k_means(k, dataset2):\n",
        "    X=np.array(dataset2)\n",
        "    pusat_klaster_lama = pusat_klaster_awal(k, X)\n",
        "    klaster = [0]*len(X)\n",
        "    epsilon = 100\n",
        "    iterasi = -1\n",
        "    while epsilon>.001:\n",
        "        jarak_ke_pusat_klaster=jarak_centroid_euclidean(dataset2,pusat_klaster_lama)\n",
        "        klaster = menentukan_klaster(jarak_ke_pusat_klaster)\n",
        "        pusat_klaster_baru = menghitung_pusat_klaster(dataset2, klaster)\n",
        "        epsilon = perubahan_pusat_klaster_euclidean(pusat_klaster_lama, pusat_klaster_baru)\n",
        "        pusat_klaster_lama = pusat_klaster_baru\n",
        "        iterasi += 1\n",
        "    return iterasi, klaster, pusat_klaster_baru"
      ],
      "execution_count": 96,
      "outputs": []
    },
    {
      "cell_type": "code",
      "metadata": {
        "colab": {
          "base_uri": "https://localhost:8080/"
        },
        "id": "lZuKjz5pkbLF",
        "outputId": "cec22b91-5127-43af-b8f6-f2a7bf440c76"
      },
      "source": [
        "iterasi, klaster, pusat_klaster = k_means(3, data2)"
      ],
      "execution_count": 97,
      "outputs": [
        {
          "output_type": "stream",
          "name": "stderr",
          "text": [
            "/usr/local/lib/python3.7/dist-packages/ipykernel_launcher.py:2: SettingWithCopyWarning: \n",
            "A value is trying to be set on a copy of a slice from a DataFrame.\n",
            "Try using .loc[row_indexer,col_indexer] = value instead\n",
            "\n",
            "See the caveats in the documentation: https://pandas.pydata.org/pandas-docs/stable/user_guide/indexing.html#returning-a-view-versus-a-copy\n",
            "  \n"
          ]
        }
      ]
    },
    {
      "cell_type": "code",
      "metadata": {
        "colab": {
          "base_uri": "https://localhost:8080/",
          "height": 419
        },
        "id": "jkcGIJvhkgJJ",
        "outputId": "e1a8bb65-c3dc-4b85-c61c-7f87fe51caaf"
      },
      "source": [
        "dataset_klaster = dataset2\n",
        "dataset_klaster"
      ],
      "execution_count": 98,
      "outputs": [
        {
          "output_type": "execute_result",
          "data": {
            "text/html": [
              "<div>\n",
              "<style scoped>\n",
              "    .dataframe tbody tr th:only-of-type {\n",
              "        vertical-align: middle;\n",
              "    }\n",
              "\n",
              "    .dataframe tbody tr th {\n",
              "        vertical-align: top;\n",
              "    }\n",
              "\n",
              "    .dataframe thead th {\n",
              "        text-align: right;\n",
              "    }\n",
              "</style>\n",
              "<table border=\"1\" class=\"dataframe\">\n",
              "  <thead>\n",
              "    <tr style=\"text-align: right;\">\n",
              "      <th></th>\n",
              "      <th>sales</th>\n",
              "      <th>quantity</th>\n",
              "      <th>profit</th>\n",
              "    </tr>\n",
              "  </thead>\n",
              "  <tbody>\n",
              "    <tr>\n",
              "      <th>0</th>\n",
              "      <td>261.96</td>\n",
              "      <td>2</td>\n",
              "      <td>419136.00</td>\n",
              "    </tr>\n",
              "    <tr>\n",
              "      <th>1</th>\n",
              "      <td>731.94</td>\n",
              "      <td>3</td>\n",
              "      <td>219582.00</td>\n",
              "    </tr>\n",
              "    <tr>\n",
              "      <th>2</th>\n",
              "      <td>14.62</td>\n",
              "      <td>2</td>\n",
              "      <td>2488915.00</td>\n",
              "    </tr>\n",
              "    <tr>\n",
              "      <th>3</th>\n",
              "      <td>9575775.00</td>\n",
              "      <td>5</td>\n",
              "      <td>-383031.00</td>\n",
              "    </tr>\n",
              "    <tr>\n",
              "      <th>4</th>\n",
              "      <td>22368.00</td>\n",
              "      <td>2</td>\n",
              "      <td>1192184.00</td>\n",
              "    </tr>\n",
              "    <tr>\n",
              "      <th>...</th>\n",
              "      <td>...</td>\n",
              "      <td>...</td>\n",
              "      <td>...</td>\n",
              "    </tr>\n",
              "    <tr>\n",
              "      <th>9983</th>\n",
              "      <td>25248.00</td>\n",
              "      <td>3</td>\n",
              "      <td>-318399.00</td>\n",
              "    </tr>\n",
              "    <tr>\n",
              "      <th>9984</th>\n",
              "      <td>91.96</td>\n",
              "      <td>2</td>\n",
              "      <td>156332.00</td>\n",
              "    </tr>\n",
              "    <tr>\n",
              "      <th>9985</th>\n",
              "      <td>258576.00</td>\n",
              "      <td>2</td>\n",
              "      <td>193932.00</td>\n",
              "    </tr>\n",
              "    <tr>\n",
              "      <th>9986</th>\n",
              "      <td>44376.00</td>\n",
              "      <td>4</td>\n",
              "      <td>13.32</td>\n",
              "    </tr>\n",
              "    <tr>\n",
              "      <th>9987</th>\n",
              "      <td>243.16</td>\n",
              "      <td>2</td>\n",
              "      <td>72948.00</td>\n",
              "    </tr>\n",
              "  </tbody>\n",
              "</table>\n",
              "<p>9988 rows × 3 columns</p>\n",
              "</div>"
            ],
            "text/plain": [
              "           sales  quantity      profit\n",
              "0         261.96         2   419136.00\n",
              "1         731.94         3   219582.00\n",
              "2          14.62         2  2488915.00\n",
              "3     9575775.00         5  -383031.00\n",
              "4       22368.00         2  1192184.00\n",
              "...          ...       ...         ...\n",
              "9983    25248.00         3  -318399.00\n",
              "9984       91.96         2   156332.00\n",
              "9985   258576.00         2   193932.00\n",
              "9986    44376.00         4       13.32\n",
              "9987      243.16         2    72948.00\n",
              "\n",
              "[9988 rows x 3 columns]"
            ]
          },
          "metadata": {},
          "execution_count": 98
        }
      ]
    },
    {
      "cell_type": "code",
      "metadata": {
        "id": "7LfHCQPpq-9g"
      },
      "source": [
        "dataset_klaster.to_csv('klasterisasi_data_retail.csv', index=False)"
      ],
      "execution_count": 99,
      "outputs": []
    }
  ]
}