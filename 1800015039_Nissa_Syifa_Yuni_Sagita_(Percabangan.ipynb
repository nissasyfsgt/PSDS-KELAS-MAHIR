{
  "nbformat": 4,
  "nbformat_minor": 0,
  "metadata": {
    "colab": {
      "name": "1800015039_Nissa_Syifa_Yuni_Sagita_(Percabangan.ipynb",
      "provenance": [],
      "include_colab_link": true
    },
    "kernelspec": {
      "name": "python3",
      "display_name": "Python 3"
    },
    "language_info": {
      "name": "python"
    }
  },
  "cells": [
    {
      "cell_type": "markdown",
      "metadata": {
        "id": "view-in-github",
        "colab_type": "text"
      },
      "source": [
        "<a href=\"https://colab.research.google.com/github/nissasyfsgt/PSDS-KELAS-MAHIR/blob/main/1800015039_Nissa_Syifa_Yuni_Sagita_(Percabangan.ipynb\" target=\"_parent\"><img src=\"https://colab.research.google.com/assets/colab-badge.svg\" alt=\"Open In Colab\"/></a>"
      ]
    },
    {
      "cell_type": "markdown",
      "metadata": {
        "id": "ABKHZe-FWRMU"
      },
      "source": [
        "##Pembuka\n",
        "Assalamu'alaikum warahmatullahi wabarakatuh.\n",
        "Puji syukur kehadirat Allah Subhana Wata'ala atas limpahan Rahmat dan HidayahNya kepada kita semua.\n",
        "Sholawat serta salam senantiasa tercurah limpahkan kepada baginda Muhammad Rasulullah Salallahualaihiwassalam.\n",
        "\n",
        "Halo para Pejuang Data. Selamat berjumpa di pertemuan kedua Program Training Algoritma Machine\n",
        "Learning Kelas Mahir.\n",
        "\n",
        "Pada pertemuan ini kamu akan belajar:\n",
        "1. Percabangan/ Struktur Pemilihan\n",
        "2. IF Statements\n",
        "3. IF ELSE Statements\n",
        "4. IF ELIF ELSE Statements\n",
        "5. Python Nested IF Statements\n",
        "6. Latihan"
      ]
    },
    {
      "cell_type": "markdown",
      "metadata": {
        "id": "UsUKd6SEWn91"
      },
      "source": [
        "##Percabangan/ Struktur Pemilihan\n",
        "Pada bagian ini, kamu akan membuat keputusan pada bahasa pemrograman Python menggunakan struktur percabangan atau juga sering disebut IF ELSE Statement. Pengambilan keputusan dibutuhkan ketika kamu akan mengeksekusi suatu kode jika sebuah kondisi tertentu dipenuhi.\n",
        "\n",
        "    Statement if .. elif ... else\n",
        "digunakan pada bahasa Python untuk pengambilan keputusan."
      ]
    },
    {
      "cell_type": "markdown",
      "metadata": {
        "id": "W_DlHVqtXDYZ"
      },
      "source": [
        "##IF Statements"
      ]
    },
    {
      "cell_type": "markdown",
      "metadata": {
        "id": "ytF8w6qrXF0G"
      },
      "source": [
        "**Python IF Statement Syntax**\n",
        "\n",
        "    if test expression:\n",
        "      statement(s)\n",
        "Program akan mengevaluasi nilai dari test expression yang diberikan kemudian akan mengeksekusi statement(s) hanya jika test expression bernilai True .\n",
        "\n",
        "Jika test expression bernilai False , maka statement(s) tidak dieksekusi.\n",
        "\n",
        "Seperti telah disampaikan pada pertemuan sebelumnya bahwa bagian body dari statement if diindikasikan dengan indentasi. Statement-statement yang akan dijalankan jika test expression bernilai True ditulis pada baris selanjutnya dan menjorok ke dalam.\n",
        "\n",
        "Sebagai catatan tambahan bahwa Python menginterpretasikan non-zero values sebagai True . None dan 0 diinterpretasikan sebagai False ."
      ]
    },
    {
      "cell_type": "markdown",
      "metadata": {
        "id": "3qDQ6QJFXsz9"
      },
      "source": [
        "**Python IF Statement Flowchart**\n",
        "\n",
        "![Python_if_statement.webp](data:image/webp;base64,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)\n"
      ]
    },
    {
      "cell_type": "markdown",
      "metadata": {
        "id": "6nTDbSH0y6j3"
      },
      "source": [
        "**Example: Python IF Statement**"
      ]
    },
    {
      "cell_type": "code",
      "metadata": {
        "colab": {
          "base_uri": "https://localhost:8080/"
        },
        "id": "0Tpv-ZwLy_Bw",
        "outputId": "e2a2fcc4-fef4-4248-8ab6-004ea97fdf89"
      },
      "source": [
        "# Jika angka adalah bilangan positif maka print \"adalah bilangan positif\"\n",
        "angka = 3\n",
        "if angka > 0:\n",
        "  print(angka, \"adalah bilangan positif.\")\n",
        "  print(\"Pernyataan ini selalu ditampilkan.\")\n",
        "\n",
        "angka = -1\n",
        "if angka > 0:\n",
        "  print(angka, \"adalah bilangan positif.\")\n",
        "print(\"Pernyataan ini juga selalu ditampilkan.\")"
      ],
      "execution_count": 1,
      "outputs": [
        {
          "output_type": "stream",
          "name": "stdout",
          "text": [
            "3 adalah bilangan positif.\n",
            "Pernyataan ini selalu ditampilkan.\n",
            "Pernyataan ini juga selalu ditampilkan.\n"
          ]
        }
      ]
    },
    {
      "cell_type": "markdown",
      "metadata": {
        "id": "-EX1IaYvzHfA"
      },
      "source": [
        "Pada contoh di atas, angka > 0 adalah `test expression`. Bagian body dari `if` dieksekusi hanya jika hasil evaluasi dari `test expression` adalah bernilai `True` .\n",
        "\n",
        "Ketika variabel angka bernilai 3, `test expression` bernilai `True` sehingga statement di dalam bagian body dari `if` akan dieksekusi. Sedangkan ketika variabel angka bernilai -1, `test expression` bernilai `False` sehingga statement di dalam bagian body dari `if` tidak dieksekusi(di skip).\n",
        "\n",
        "Statement `print()` di luar blok `if` (yang tidak terindentasi) akan selalu dieksekusi."
      ]
    },
    {
      "cell_type": "markdown",
      "metadata": {
        "id": "yGhJB8jfymQs"
      },
      "source": [
        "**Python IF ELSE Statement Flowchart**\n",
        "\n",
        "![Python_if_else_statement.webp](data:image/webp;base64,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)"
      ]
    },
    {
      "cell_type": "markdown",
      "metadata": {
        "id": "UKf7ebnGe6Jq"
      },
      "source": [
        "**Example: Python IF ELSE Statement**"
      ]
    },
    {
      "cell_type": "code",
      "metadata": {
        "colab": {
          "base_uri": "https://localhost:8080/"
        },
        "id": "R6mnao6nVvG9",
        "outputId": "06cad2cc-0990-45ef-d096-dc217ff10eb3"
      },
      "source": [
        "# Program disusun untuk mengecek apakah angka merupakan bilangan positif atau negatif\n",
        "# dan menampilkan tulisan yang sesuai\n",
        "angka = 3\n",
        "# Kamu bisa mencoba angka-angka lainnya berikut:\n",
        "# angka = -5\n",
        "# angka = 0\n",
        "if angka >= 0:\n",
        "  print(\"Bilangan Positif atau Nol\")\n",
        "else:\n",
        "  print(\"Bilangan Negatif\")"
      ],
      "execution_count": null,
      "outputs": [
        {
          "output_type": "stream",
          "name": "stdout",
          "text": [
            "Bilangan Positif atau Nol\n"
          ]
        }
      ]
    },
    {
      "cell_type": "markdown",
      "metadata": {
        "id": "Hit3OArsfWPw"
      },
      "source": [
        "Pada contoh di atas, ketika angka sama dengan 3, test expression bernilai True dan bagian body dari if dieksekusi sedangkan bagian body dari else diabaikan.\n",
        "\n",
        "Ketika angka sama dengan -5, test expression bernilai False dan bagian body dari if diabaikan sedangkan bagian body dari else dieksekusi.\n",
        "\n",
        "Jika angka sama dengan 0, test expression bernilai True dan bagian body dari if dieksekusi sedangkan bagian body dari else diabaikan."
      ]
    },
    {
      "cell_type": "code",
      "metadata": {
        "colab": {
          "base_uri": "https://localhost:8080/"
        },
        "id": "t0T_QFgKfeNW",
        "outputId": "1aee524e-6ac1-4304-e37d-0ba33f910742"
      },
      "source": [
        "# Program disusun untuk mengecek apakah dua buah angka sama atau tidak\n",
        "# dan menampilkan tulisan yang sesuai\n",
        "a = 5\n",
        "b = 5\n",
        "if a==b:\n",
        "  print(\"a dan b bernilai sama\")\n",
        "else:\n",
        "  print(\"a dan b bernilai berbeda\")\n",
        "  print(\"Halo\")"
      ],
      "execution_count": null,
      "outputs": [
        {
          "output_type": "stream",
          "name": "stdout",
          "text": [
            "a dan b bernilai sama\n"
          ]
        }
      ]
    },
    {
      "cell_type": "code",
      "metadata": {
        "colab": {
          "base_uri": "https://localhost:8080/"
        },
        "id": "vM3uAv3kfqEY",
        "outputId": "5e6ee1d0-fed9-4890-d772-5bd6fa1b3bb4"
      },
      "source": [
        "# Program disusun untuk mengecek apakah perbandingan dua buah angka\n",
        "# dan menampilkan tulisan yang sesuai\n",
        "# membaca dua angka\n",
        "bilangan1 = int(input(\"Masukkan bilangan pertama: \"))\n",
        "bilangan2 = int(input(\"Masukkan bilangan kedua: \"))\n",
        "# memilih bilangan yang lebih besar\n",
        "if bilangan1 > bilangan2:\n",
        "  bilangan_lebih_besar = bilangan1\n",
        "else:\n",
        "  bilangan_lebih_besar = bilangan2\n",
        "# menampilkan hasil\n",
        "print(\"Bilangan yang lebih besar adalah:\", bilangan_lebih_besar)"
      ],
      "execution_count": null,
      "outputs": [
        {
          "output_type": "stream",
          "name": "stdout",
          "text": [
            "Masukkan bilangan pertama: 10\n",
            "Masukkan bilangan kedua: 10\n",
            "Bilangan yang lebih besar adalah: 10\n"
          ]
        }
      ]
    },
    {
      "cell_type": "markdown",
      "metadata": {
        "id": "VYkYP3XKfz8O"
      },
      "source": [
        "##IF ELIF ELSE Statements"
      ]
    },
    {
      "cell_type": "markdown",
      "metadata": {
        "id": "Xwapj-Z8f2Rj"
      },
      "source": [
        "**Python IF ELIF ELSE Statement Syntax**\n",
        "    \n",
        "    if test expression:\n",
        "      Body of if\n",
        "    elif test expression:\n",
        "      Body of elif\n",
        "    else :\n",
        "      Body of else\n",
        "      \n",
        "`elif` adalah kependekan dari else if. Perintah ini bertugas untuk mengecek beberapa `test expression` .\n",
        "\n",
        "Jika kondisi untuk statement `if` bernilai `False` , maka akan mengecek ke kondisi `elif` selanjutnya dan begitu seterusnya. Jika semua kondisi pada statement `if` dan `elif` bernilai False maka, bagian body dari `else` akan dieksekusi.\n",
        "\n",
        "Hanya satu blok di antara `if , elif `, dan `else` yangakan dieksekusi berdasarkan kondisi yang sesuai.\n",
        "\n",
        "Pada sebuah `if` blok hanya diijinkan sebuah `else` blok namun dapat memiliki beberapa blok `elif` .\n",
        "\n",
        "**Python IF ELIF ELSE Statement Flow Chart**\n",
        "\n",
        "\n"
      ]
    },
    {
      "cell_type": "markdown",
      "metadata": {
        "id": "-QaJnRHAhriA"
      },
      "source": [
        "**Example: Python IF ELIF ELSE Statement**"
      ]
    },
    {
      "cell_type": "code",
      "metadata": {
        "colab": {
          "base_uri": "https://localhost:8080/"
        },
        "id": "0ClWDzCgjAWp",
        "outputId": "289d9dcb-5895-41a9-bf9b-bc68b3627d27"
      },
      "source": [
        "# Program disusun untuk mengecek apakah angka merupakan bilangan positif, negatif atau nol\n",
        "# dan menampilkan tulisan yang sesuai\n",
        "angka = 3.4\n",
        "# Kamu bisa mencoba angka-angka lainnya berikut:\n",
        "# angka = 0\n",
        "# angka = -4.5\n",
        "if angka > 0:\n",
        "  print(\"Bilangan Positif\")\n",
        "elif num == 0:\n",
        "  print(\"Nol\")\n",
        "else:\n",
        "  print(\"Bilangan Negatif\")"
      ],
      "execution_count": null,
      "outputs": [
        {
          "output_type": "stream",
          "name": "stdout",
          "text": [
            "Bilangan Positif\n"
          ]
        }
      ]
    },
    {
      "cell_type": "markdown",
      "metadata": {
        "id": "rXg8yzQDjKrl"
      },
      "source": [
        "Ketika variabel angka bernilai positif , maka Bilangan Positif ditampilkan.\n",
        "\n",
        "Jika angka sama dengan 0, maka Nol ditampilkan.\n",
        "\n",
        "Jika angka bernilai negatif , maka Bilangan Negatif ditampilkan."
      ]
    },
    {
      "cell_type": "code",
      "metadata": {
        "colab": {
          "base_uri": "https://localhost:8080/"
        },
        "id": "-OGHqekmjP53",
        "outputId": "4596b39c-3b81-4b8c-c764-c65eaac80b75"
      },
      "source": [
        "# Statement if\n",
        "x = 4\n",
        "if x % 2 == 0: # jika sisa bagi x dengan 2 sama dengan 0\n",
        "  print(\"x habis dibagi dua\") # statemen aksi lebih menjorok ke dalam\n",
        "# Statement if ... elif ... else\n",
        "x = 7\n",
        "if x % 2 == 0: # jika sisa bagi x dengan 2 sama dengan 0\n",
        "  print(\"x habis dibagi dua\")\n",
        "elif x % 3 ==0: # jika sisa bagi x dengan 3 sama dengan 0\n",
        "  print(\"x habis dibagi tiga\")\n",
        "elif x % 5 ==0: # jika sisa bagi x dengan 5 sama dengan 0\n",
        "  print(\"x habis dibagi lima\")\n",
        "else:\n",
        "  print(\"x tidak habis dibagi dua, tiga ataupun lima\")"
      ],
      "execution_count": null,
      "outputs": [
        {
          "output_type": "stream",
          "name": "stdout",
          "text": [
            "x habis dibagi dua\n",
            "x tidak habis dibagi dua, tiga ataupun lima\n"
          ]
        }
      ]
    },
    {
      "cell_type": "markdown",
      "metadata": {
        "id": "vLdXCmpfjl_5"
      },
      "source": [
        "##Python Nested IF Statements"
      ]
    },
    {
      "cell_type": "markdown",
      "metadata": {
        "id": "PgZsEdgmjoqu"
      },
      "source": [
        "Kita dapat membuat statement `if...elif...else` di dalam statement` if...elif...else` lainnya. Ini disebut sebagai `nesting` dalam `computer programming` .\n",
        "\n",
        "Sejumlah pernyataan ini dapat bersarang( `nesting` ) di dalam satu sama lain. Indentasi adalah satu-satunya cara untuk mengetahui tingkat bersarang. Mereka bisa membingungkan, jadi mereka harus dihindari kecuali jika perlu."
      ]
    },
    {
      "cell_type": "markdown",
      "metadata": {
        "id": "WdEchW9vj-Ui"
      },
      "source": [
        "**Example: Python NESTED IF Statement**"
      ]
    },
    {
      "cell_type": "code",
      "metadata": {
        "colab": {
          "base_uri": "https://localhost:8080/"
        },
        "id": "mIFDCQW-kBI7",
        "outputId": "a349b366-0db3-47bb-d257-6fc25834495c"
      },
      "source": [
        "# Program disusun untuk mengecek apakah angka merupakan bilangan positif, negatif atau nol\n",
        "# dan menampilkan tulisan yang sesuai\n",
        "\n",
        "angka = float(input(\"Masukkan angka: \"))\n",
        "if angka >= 0:\n",
        "  if angka == 0:\n",
        "    print(\"Nol\")\n",
        "  else:\n",
        "    print(\"Bilangan Positif\")\n",
        "else:\n",
        "  print(\"Bilangan Negatif\")"
      ],
      "execution_count": null,
      "outputs": [
        {
          "output_type": "stream",
          "name": "stdout",
          "text": [
            "Masukkan angka: 9\n",
            "Bilangan Positif\n"
          ]
        }
      ]
    },
    {
      "cell_type": "markdown",
      "metadata": {
        "id": "ZnZv-9iZkbFQ"
      },
      "source": [
        "##Latihan"
      ]
    },
    {
      "cell_type": "markdown",
      "metadata": {
        "id": "R5gw1uxSkdGo"
      },
      "source": [
        "1. Buatlah sebuah fungsi \"Mahal_Diskon\" dengan ketentuan:\n",
        "\n",
        "A. Input berupa data harga produk dengan tipe data numerik Tunggal\n",
        "\n",
        "B. Kategori Input adalah \"Murah\" dan \"Mahal\", kemudian diskon ada 3 kategori \"10 %\", \"20 %\", dan \"\"40%\"\n",
        "\n",
        "C. Output Pertama sebuah teks/string yang menyatakan \"Mahal\" atau \"Murah\" dan Keterangan \"Kamu Dapat Diskon ...\"\n",
        "\n",
        "D. Output Kedua adalah harga yang perlu dibayarkan"
      ]
    },
    {
      "cell_type": "code",
      "metadata": {
        "colab": {
          "base_uri": "https://localhost:8080/"
        },
        "id": "9U3W7ptukvwK",
        "outputId": "f6db5e57-861c-4790-f781-0545e47212b6"
      },
      "source": [
        "#input harga produk \n",
        "a = float(input('Harga Produk: Rp.'))\n",
        "\n",
        "if (a>100000):\n",
        "  print(\"Mahal\")\n",
        "else:\n",
        "  print(\"Murah\")\n",
        "\n",
        "#memberikan diskon dengan 3 kategori\n",
        "if (a>0 and a<70000):\n",
        "  print(\"HORE! KAMU DAPAT DISKON SEBESAR 10%\")\n",
        "  diskon=0.1*a\n",
        "  bayar=a-diskon\n",
        "  print(\"Harga yang perlu dibayarkan adalah Rp.\", bayar)\n",
        "elif (a>= 70000 and a<100000):\n",
        "  print(\"HORE! KAMU DAPAT DISKON SEBESAR 20%\")\n",
        "  diskon=0.2*a\n",
        "  bayar=a-diskon\n",
        "  print(\"Harga yang perlu dibayarkan adalah Rp.\", bayar)  \n",
        "else:\n",
        "  print(\"HORE! KAMU DAPAT DISKON SEBESAR 40%\")\n",
        "  diskon=0.4*a\n",
        "  bayar=a-diskon\n",
        "  print(\"Harga yang perlu dibayarkan adalah Rp.\", bayar)"
      ],
      "execution_count": null,
      "outputs": [
        {
          "output_type": "stream",
          "name": "stdout",
          "text": [
            "Harga Produk: Rp.250000\n",
            "Mahal\n",
            "HORE! KAMU DAPAT DISKON SEBESAR 40%\n",
            "Harga yang perlu dibayarkan adalah Rp. 150000.0\n"
          ]
        }
      ]
    },
    {
      "cell_type": "markdown",
      "metadata": {
        "id": "sPp-0U3FkyWc"
      },
      "source": [
        "2. Diberi sebuah string, tulislah sebuah fungsi python untuk memeriksa apakah string tersebut merupakan palindrom atau bukan. Sebuah string dikatakan palindrom jika susunan terbalik dari string tersebut sama dengan string pada susunan awalnya. Misalnya, \"radar\" adalah palindrom, tetapi \"radix\" bukanlah\n",
        "palindrom."
      ]
    },
    {
      "cell_type": "code",
      "metadata": {
        "colab": {
          "base_uri": "https://localhost:8080/"
        },
        "id": "LJpF1GFDk3Kw",
        "outputId": "517b0fda-88f2-44ca-bfe6-a2fea58cd991"
      },
      "source": [
        "y = input(\"Kata: \")\n",
        "z = len(y)\n",
        "kondisi = True\n",
        "\n",
        "for i in range (0, z):\n",
        "  if (kondisi):\n",
        "    b = z-(i+1)\n",
        "\n",
        "    if y[i] is y[b]:\n",
        "      kondisi = True\n",
        "    else:\n",
        "      kondisi = False\n",
        "      \n",
        "if (kondisi):\n",
        "  print('PALINDROM')\n",
        "else:\n",
        "  print('BUKAN PALINDROM')"
      ],
      "execution_count": null,
      "outputs": [
        {
          "output_type": "stream",
          "name": "stdout",
          "text": [
            "Kata: RADAR\n",
            "PALINDROM\n"
          ]
        }
      ]
    },
    {
      "cell_type": "markdown",
      "metadata": {
        "id": "fVzVq4BPk3iG"
      },
      "source": [
        "3. Buatlah fungsi untuk menghitung diskon suatu pembayaran belanjaan dengan input berupa dictionary untuk daftar harga dan dictionary untuk daftar belanjaan!"
      ]
    },
    {
      "cell_type": "markdown",
      "metadata": {
        "id": "o7f4aDsMk5QO"
      },
      "source": [
        "Contoh:\n",
        "\n",
        "    daftar_harga = {'telur/kg':20000, 'gula_pasir/kg':16000, 'teh/bks':4000}\n",
        "    daftar_belanjaan = {'telur':2, 'gula_pasir':5}\n",
        "\n",
        "    jumlah_bayar = pembayaran(daftar_harga, daftar_belanjaan)\n",
        "Output\n",
        "\n",
        "    120000"
      ]
    },
    {
      "cell_type": "code",
      "metadata": {
        "colab": {
          "base_uri": "https://localhost:8080/"
        },
        "id": "eWr-8-mhlJXC",
        "outputId": "39321149-a7e1-4df8-a79c-c7b9fdcc6e25"
      },
      "source": [
        "#input daftar harga dan daftar belanjaan\n",
        "daftar_harga = {'tepung' : 15000, 'cabai' : 26000}\n",
        "daftar_belanjaan = {'tepung' : 1, 'cabai' : 2}\n",
        "\n",
        "def pembayaran(daftar_harga, daftar_belanjaan):\n",
        "  \n",
        "  jumlah = 0\n",
        "  for barang in daftar_harga:\n",
        "    for beli in daftar_belanjaan:\n",
        "      if barang == beli:\n",
        "        jumlah += daftar_harga[beli]*daftar_belanjaan[beli]\n",
        "  disc = jumlah-jumlah*0.3 #diberikan diskon sebesar 30%\n",
        "  return disc\n",
        "\n",
        "jumlah_bayar = pembayaran(daftar_harga, daftar_belanjaan)\n",
        "print(jumlah_bayar)"
      ],
      "execution_count": null,
      "outputs": [
        {
          "output_type": "stream",
          "name": "stdout",
          "text": [
            "46900.0\n"
          ]
        }
      ]
    }
  ]
}