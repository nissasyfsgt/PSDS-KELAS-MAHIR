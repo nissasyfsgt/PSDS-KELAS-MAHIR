{
  "nbformat": 4,
  "nbformat_minor": 0,
  "metadata": {
    "colab": {
      "name": "1800015039_Nissa Sufa Yuni Sagita_Function",
      "provenance": [],
      "authorship_tag": "ABX9TyPyYomg/vndC9e6wtsucGZ4",
      "include_colab_link": true
    },
    "kernelspec": {
      "name": "python3",
      "display_name": "Python 3"
    },
    "language_info": {
      "name": "python"
    }
  },
  "cells": [
    {
      "cell_type": "markdown",
      "metadata": {
        "id": "view-in-github",
        "colab_type": "text"
      },
      "source": [
        "<a href=\"https://colab.research.google.com/github/nissasyfsgt/PSDS-KELAS-MAHIR/blob/main/1800015039_Nissa_Sufa_Yuni_Sagita_Function.ipynb\" target=\"_parent\"><img src=\"https://colab.research.google.com/assets/colab-badge.svg\" alt=\"Open In Colab\"/></a>"
      ]
    },
    {
      "cell_type": "markdown",
      "metadata": {
        "id": "0cYTf8GUJF92"
      },
      "source": [
        "Pembuka\n",
        "\n",
        "Assalamu'alaikum warahmatullahi wabarakatuh.\n",
        "Puji syukur kehadirat Allah Subhana Wata'ala atas limpahan\n",
        "Rahmat dan HidayahNya kepada kita semua.\n",
        "Sholawat serta salam senantiasa tercurah limpahkan kepada\n",
        "baginda Muhammad Rasulullah Salallahualaihiwassalam.\n",
        "Halo para Pejuang Data. Selamat berjumpa di pertemuan pertama Program Training Algoritma Machine\n",
        "Learning Kelas Mahir.\n",
        "Pada pertemuan ini kamu akan belajar:\n",
        "1. Fungsi Pada Python\n",
        "2. Keyword & Argument\n",
        "3. Membuat Fungsi Pada Python\n",
        "4. Positional Argument & Keyword\n",
        "5. Argument Default\n",
        "6. Contoh User Defined Function\n",
        "7. Latihan"
      ]
    },
    {
      "cell_type": "markdown",
      "metadata": {
        "id": "10WbAFYZJe_m"
      },
      "source": [
        "##Function\n",
        "\n",
        "Function adalah sebuah blok statemen yang hanya akan dijalankan saat ia dipanggil.!"
      ]
    },
    {
      "cell_type": "code",
      "metadata": {
        "colab": {
          "base_uri": "https://localhost:8080/"
        },
        "id": "GSSRlS8lJEoU",
        "outputId": "5e74af63-f1c7-44ae-b6c1-3152fa68f0d3"
      },
      "source": [
        "genap = [2,4,6,8,10]\n",
        "len(genap)"
      ],
      "execution_count": 1,
      "outputs": [
        {
          "output_type": "execute_result",
          "data": {
            "text/plain": [
              "5"
            ]
          },
          "metadata": {},
          "execution_count": 1
        }
      ]
    },
    {
      "cell_type": "code",
      "metadata": {
        "colab": {
          "base_uri": "https://localhost:8080/"
        },
        "id": "64jSjmcHJvK6",
        "outputId": "5c316eb3-fea1-44bc-8eb5-e412b4301d61"
      },
      "source": [
        "print('Assalamualaikum Dunia')"
      ],
      "execution_count": 2,
      "outputs": [
        {
          "output_type": "stream",
          "name": "stdout",
          "text": [
            "Assalamualaikum Dunia\n"
          ]
        }
      ]
    },
    {
      "cell_type": "markdown",
      "metadata": {
        "id": "rY1L5F2fJ0gZ"
      },
      "source": [
        "##Keyword & Argument!\n",
        "Keyword/Parameter : variable yang digunakan dalam deklarasi fungsi\n",
        "Argument : nilai yang diberikan saat pemanggilan fungsi"
      ]
    },
    {
      "cell_type": "code",
      "metadata": {
        "colab": {
          "base_uri": "https://localhost:8080/"
        },
        "id": "r9Ze8wV9J71h",
        "outputId": "0e41328b-3349-4017-8f2a-65aec54763f6"
      },
      "source": [
        "#sep = keyword/argument\n",
        "#'-' = argument\n",
        "\n",
        "print('kata1','kata2', sep='/')"
      ],
      "execution_count": 3,
      "outputs": [
        {
          "output_type": "stream",
          "name": "stdout",
          "text": [
            "kata1/kata2\n"
          ]
        }
      ]
    },
    {
      "cell_type": "markdown",
      "metadata": {
        "id": "LPqx5nBzKXDt"
      },
      "source": [
        "##Membuat Fungsi\n",
        "Python mengizinkan untuk mendeklarasikan fungsi dalam kode yang dituliskan yang dikenal dengan user\n",
        "defined function.\n",
        "\n",
        "    def nama_fungsi(argument):\n",
        "        pernyataan_1\n",
        "        …\n",
        "        pernyataan_n\n",
        "        return nilai_keluaran"
      ]
    },
    {
      "cell_type": "code",
      "metadata": {
        "id": "KGgNcZMyKlUq"
      },
      "source": [
        "#Pendefinisian fungsi_kuadrat\n",
        "def fungsi_kuadrat(x):\n",
        "  hasil = x**2\n",
        "  return hasil"
      ],
      "execution_count": 4,
      "outputs": []
    },
    {
      "cell_type": "code",
      "metadata": {
        "id": "yshSurCpLUgF"
      },
      "source": [
        "# Alternatif pendefinisian fungsi_kuadrat\n",
        "def fungsi_kuadrat(x):\n",
        "  return x**2"
      ],
      "execution_count": 5,
      "outputs": []
    },
    {
      "cell_type": "code",
      "metadata": {
        "colab": {
          "base_uri": "https://localhost:8080/"
        },
        "id": "YMRQrjHDLYhR",
        "outputId": "4b26dfb2-60b7-4e6b-c3ea-9aa596980ba5"
      },
      "source": [
        "# Pemanggilan fungsi_kuadrat\n",
        "fungsi_kuadrat(6)"
      ],
      "execution_count": 6,
      "outputs": [
        {
          "output_type": "execute_result",
          "data": {
            "text/plain": [
              "36"
            ]
          },
          "metadata": {},
          "execution_count": 6
        }
      ]
    },
    {
      "cell_type": "markdown",
      "metadata": {
        "id": "Om3w6ATPLfC8"
      },
      "source": [
        "##Positional Argument & Keyword\n",
        "Kita bisa menyatakan argumen sebagai positional argument atau keyword. Beberapa manfaat argumen kata\n",
        "kunci dapat berupa:\n",
        "Kita dapat menyebut argumen dengan nama mereka untuk memperjelas apa yang mereka wakili\n",
        "Kita dapat mengatur ulang argumen dengan cara yang membuatnya paling mudah dibaca"
      ]
    },
    {
      "cell_type": "code",
      "metadata": {
        "id": "0usDMXyrLkRX"
      },
      "source": [
        "# Mendefinisikan fungsi dengan beberapa argumen\n",
        "def tampilkan_kata(a, b, c):\n",
        "  print(a, b, c)"
      ],
      "execution_count": 7,
      "outputs": []
    },
    {
      "cell_type": "code",
      "metadata": {
        "colab": {
          "base_uri": "https://localhost:8080/"
        },
        "id": "up-Wu4YbLqjK",
        "outputId": "c5970ff1-ea33-4836-c977-47833b343ae1"
      },
      "source": [
        "# Positional Arguments\n",
        "tampilkan_kata('aku', 'kau', 'dia')"
      ],
      "execution_count": 8,
      "outputs": [
        {
          "output_type": "stream",
          "name": "stdout",
          "text": [
            "aku kau dia\n"
          ]
        }
      ]
    },
    {
      "cell_type": "code",
      "metadata": {
        "colab": {
          "base_uri": "https://localhost:8080/"
        },
        "id": "_yT52vGBLtF7",
        "outputId": "5ec38fc8-12f0-42ee-82f9-c9ba4d57230d"
      },
      "source": [
        "tampilkan_kata('kau', 'aku', 'dia')"
      ],
      "execution_count": 9,
      "outputs": [
        {
          "output_type": "stream",
          "name": "stdout",
          "text": [
            "kau aku dia\n"
          ]
        }
      ]
    },
    {
      "cell_type": "code",
      "metadata": {
        "colab": {
          "base_uri": "https://localhost:8080/"
        },
        "id": "cLhnEX7FLwcf",
        "outputId": "1317bc4c-d01f-4223-b103-44891b01a0fc"
      },
      "source": [
        "# argumen berdasarkan keyword-nya\n",
        "tampilkan_kata(a='aku', b='kau', c='dia')\n",
        "tampilkan_kata(c='dia', b='kau', a='aku')"
      ],
      "execution_count": 10,
      "outputs": [
        {
          "output_type": "stream",
          "name": "stdout",
          "text": [
            "aku kau dia\n",
            "aku kau dia\n"
          ]
        }
      ]
    },
    {
      "cell_type": "markdown",
      "metadata": {
        "id": "z1_qjdW0L0lW"
      },
      "source": [
        "Catatan: jika sudah diberi kunci maka urutan tidak menjadi penting"
      ]
    },
    {
      "cell_type": "code",
      "metadata": {
        "colab": {
          "base_uri": "https://localhost:8080/"
        },
        "id": "6yCR36sgL10V",
        "outputId": "45875059-8769-4fd5-bb25-77fb01db0bb0"
      },
      "source": [
        "# campuran antara argumen posisi dan argumen kata kunci\n",
        "tampilkan_kata('aku', b='kau', c='dia')"
      ],
      "execution_count": 11,
      "outputs": [
        {
          "output_type": "stream",
          "name": "stdout",
          "text": [
            "aku kau dia\n"
          ]
        }
      ]
    },
    {
      "cell_type": "markdown",
      "metadata": {
        "id": "1vc19xOLL6wi"
      },
      "source": [
        "Ini tidak diijinkan:\n",
        "1. Positional argument setelah keyword argument\n",
        "    tampilkan_kata('aku', b='kau', 'dia')\n",
        "2. Terdapat dua nilai untuk satu keyword argument yang sama\n",
        "    tampilkan_kata(1, b=2, a=3)"
      ]
    },
    {
      "cell_type": "markdown",
      "metadata": {
        "id": "CI2_Ej7qMS6q"
      },
      "source": [
        "##Argument Default\n",
        "Fungsi dapat memiliki argumen default dengan nilai yang telah ditentukan sebelumnya. Argumen ini dapat\n",
        "ditinggalkan dan nilai default kemudian diteruskan ke fungsi, atau argumen dapat dirubah dengan nilai yang\n",
        "berbeda. Perhatikan bahwa argumen default harus ditentukan sebagai parameter terakhir dalam suatu fungsi."
      ]
    },
    {
      "cell_type": "code",
      "metadata": {
        "colab": {
          "base_uri": "https://localhost:8080/"
        },
        "id": "4vzpCMcXMVUU",
        "outputId": "faafc93a-8dc7-4a06-9b21-5ec7a549edd1"
      },
      "source": [
        "# Argumen default\n",
        "def tampilkan_kata(a, b, c, d='sahabat'):\n",
        "  print(a, b, c, d)\n",
        "  \n",
        "tampilkan_kata('aku', 'kau', 'dia')\n",
        "tampilkan_kata('aku', b='kau', c='dia', d='teman')"
      ],
      "execution_count": 12,
      "outputs": [
        {
          "output_type": "stream",
          "name": "stdout",
          "text": [
            "aku kau dia sahabat\n",
            "aku kau dia teman\n"
          ]
        }
      ]
    },
    {
      "cell_type": "markdown",
      "metadata": {
        "id": "Kp9ji94uMdHB"
      },
      "source": [
        "Catatan: Argumen default harus diletakkan terakhir"
      ]
    },
    {
      "cell_type": "markdown",
      "metadata": {
        "id": "mPAdTEIxMerK"
      },
      "source": [
        "##Contoh User Defined Function\n",
        "Contoh 1:\n",
        "\n",
        "Penjumlahan 2 bilangan"
      ]
    },
    {
      "cell_type": "code",
      "metadata": {
        "colab": {
          "base_uri": "https://localhost:8080/"
        },
        "id": "y3e0syiMMjls",
        "outputId": "efa11299-189b-4d70-c6f2-2e7f044e1ed0"
      },
      "source": [
        "def penjumlahan(x, y): #input\n",
        "    a=x+y  #proses\n",
        "    return a # output\n",
        "\n",
        "penjumlahan(1, 2) # pemanggilan fungsi"
      ],
      "execution_count": 17,
      "outputs": [
        {
          "output_type": "execute_result",
          "data": {
            "text/plain": [
              "3"
            ]
          },
          "metadata": {},
          "execution_count": 17
        }
      ]
    },
    {
      "cell_type": "markdown",
      "metadata": {
        "id": "y3g_izuZNInz"
      },
      "source": [
        "Contoh 2:\n",
        "\n",
        "Penjumlahan yang memungkinkan untuk tiga bilangan"
      ]
    },
    {
      "cell_type": "code",
      "metadata": {
        "colab": {
          "base_uri": "https://localhost:8080/"
        },
        "id": "9-lj6FErNH6S",
        "outputId": "148a4e29-7185-4017-fc30-77972955fba0"
      },
      "source": [
        "def penjumlahan(x,y,z=None):\n",
        "    if (z==None):\n",
        "      return x+y\n",
        "    else:\n",
        "      return x+y+z\n",
        "\n",
        "print(penjumlahan(1, 2))\n",
        "print(penjumlahan(1, 2, 3))"
      ],
      "execution_count": 18,
      "outputs": [
        {
          "output_type": "stream",
          "name": "stdout",
          "text": [
            "3\n",
            "6\n"
          ]
        }
      ]
    },
    {
      "cell_type": "markdown",
      "metadata": {
        "id": "7sR9LOQDNVF7"
      },
      "source": [
        "Contoh 3:\n",
        "\n",
        "Menghitung luas dan keliling persegi"
      ]
    },
    {
      "cell_type": "code",
      "metadata": {
        "colab": {
          "base_uri": "https://localhost:8080/"
        },
        "id": "H0g5NjGKNfHH",
        "outputId": "547b9e80-046c-47d6-dd68-067f6a18241e"
      },
      "source": [
        "def luas_dan_keliling_presegi(s):\n",
        "  luas = s**2\n",
        "  keliling = 4*s\n",
        "  return luas, keliling\n",
        "  \n",
        "luas, keliling = luas_dan_keliling_presegi(2)\n",
        "print('luas:', luas)\n",
        "print('keliling:', keliling)"
      ],
      "execution_count": 19,
      "outputs": [
        {
          "output_type": "stream",
          "name": "stdout",
          "text": [
            "luas: 4\n",
            "keliling: 8\n"
          ]
        }
      ]
    },
    {
      "cell_type": "markdown",
      "metadata": {
        "id": "N6IrLPj-Nnmm"
      },
      "source": [
        "##Latihan\n",
        "1. Buatlah sebuah fungsi untuk menghitung luas dan keliling lingkaran dengan input jari2!"
      ]
    },
    {
      "cell_type": "code",
      "metadata": {
        "colab": {
          "base_uri": "https://localhost:8080/"
        },
        "id": "9jLmIdyiNwjL",
        "outputId": "b539a2ba-b6e2-403f-9539-e86891ce59be"
      },
      "source": [
        "def luas(r):\n",
        "  pi = 3.14\n",
        "  luas = pi*(r**2)\n",
        "  return luas\n",
        "def keliling(r):\n",
        "  pi = 3.14  \n",
        "  keliling = 2*pi*r\n",
        "  return keliling\n",
        "\n",
        "luas = luas(100) \n",
        "keliling = keliling(200)\n",
        "\n",
        "print('Luas Lingkaran:', luas)\n",
        "print('Keliling Lingkaran:', keliling)"
      ],
      "execution_count": 21,
      "outputs": [
        {
          "output_type": "stream",
          "name": "stdout",
          "text": [
            "Luas Lingkaran: 31400.0\n",
            "Keliling Lingkaran: 1256.0\n"
          ]
        }
      ]
    },
    {
      "cell_type": "markdown",
      "metadata": {
        "id": "Qg7K1R8zO-7H"
      },
      "source": [
        "2. Buatlah sebuah fungsi untuk menggabungkan dua kata dalam bentuk string bebas menjadi satu kata tanpa\n",
        "spasi dengan huruf kecil\n",
        "\n",
        "Contoh:\n",
        "\n",
        "    gabung_kata('TANGKUBAN', 'PeRaHu')\n",
        "Output:\n",
        "\n",
        "    ```python 'tangkubanperahu'"
      ]
    },
    {
      "cell_type": "code",
      "metadata": {
        "colab": {
          "base_uri": "https://localhost:8080/"
        },
        "id": "5AbJS1qCPQ-p",
        "outputId": "3d58e6cf-de8b-4ade-b6c5-644c3ac65fdc"
      },
      "source": [
        "def gabung_kata(x, y):\n",
        "\n",
        "  print((x+y).lower());\n",
        "\n",
        "gabung_kata('TANGKUBAN', 'PeRaHu')"
      ],
      "execution_count": 22,
      "outputs": [
        {
          "output_type": "stream",
          "name": "stdout",
          "text": [
            "tangkubanperahu\n"
          ]
        }
      ]
    },
    {
      "cell_type": "markdown",
      "metadata": {
        "id": "q_ekSAy0Pozl"
      },
      "source": [
        "3. Buatlah sebuah fungsi awal_akhir(list_input) untuk menukar elemen pertama pada sebuah list\n",
        "dengan elemen terakhir pada list yang sama!\n",
        "\n",
        "Contoh:\n",
        "\n",
        "    awal_akhir([1,2,3,4])\n",
        "\n",
        "Output:\n",
        "\n",
        "    ```python [4,2,3,1]"
      ]
    },
    {
      "cell_type": "code",
      "metadata": {
        "colab": {
          "base_uri": "https://localhost:8080/"
        },
        "id": "gP5mnYNMP0QN",
        "outputId": "fccb97be-f85a-43ac-f668-7622090ccea2"
      },
      "source": [
        "def awal_akhir(list_input):\n",
        "\n",
        "  awal, *tengah, akhir = list_input\n",
        "  list_input = [akhir, *tengah, awal];\n",
        "\n",
        "  print(list_input);\n",
        "\n",
        "awal_akhir([1,2,3,4])"
      ],
      "execution_count": 23,
      "outputs": [
        {
          "output_type": "stream",
          "name": "stdout",
          "text": [
            "[4, 2, 3, 1]\n"
          ]
        }
      ]
    }
  ]
}